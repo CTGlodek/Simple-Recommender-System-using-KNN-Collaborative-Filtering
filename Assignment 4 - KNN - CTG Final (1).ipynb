{
 "cells": [
  {
   "cell_type": "markdown",
   "id": "106c2b00",
   "metadata": {},
   "source": [

   ]
  },
  {
   "cell_type": "code",
   "execution_count": 1,
   "id": "e0d96f54",
   "metadata": {},
   "outputs": [],
   "source": [
    "import pandas as pd\n",
    "import numpy as np"
   ]
  },
  {
   "cell_type": "code",
   "execution_count": 2,
   "id": "7b34a3f5",
   "metadata": {},
   "outputs": [],
   "source": [
    "# process the data, This is specific to the movie data and is not used for the joke\n",
    "def process_data(df):\n",
    "    \n",
    "    #copy the dataframe\n",
    "    temp_df = df.copy()\n",
    "    \n",
    "    # replace all empty strings with Nan\n",
    "    temp_df.replace(r'^\\s*$', np.NaN, regex=True, inplace=True)\n",
    "\n",
    "    # replace all NaN with 0\n",
    "    temp_df.fillna(value=0, inplace=True)\n",
    "\n",
    "    # rename the first column Users\n",
    "    temp_df.rename(columns={temp_df.columns[0]: 'Users'}, inplace = True)\n",
    "\n",
    "    # Set Users as the index\n",
    "    temp_df.set_index('Users', inplace= True)\n",
    "\n",
    "    # Drop the row without values\n",
    "    temp_df.drop([0,0], inplace = True)\n",
    "    \n",
    "    return temp_df\n",
    "\n",
    "# method to calculate the pearson coor value\n",
    "# x is the target row\n",
    "def pearson(temp_df, x , user):\n",
    "    \n",
    "    row_total = []\n",
    "    target_total = []\n",
    "    \n",
    "    cor = 0\n",
    "    x_cor = 0\n",
    "    user_cor = 0\n",
    "    \n",
    "    \n",
    "    p_cor = 0\n",
    "    \n",
    "    i = 0\n",
    "    \n",
    "    # append the values for each row if both x and user are not NaN\n",
    "    for i in range(temp_df.shape[1]):\n",
    "        # skips any NanN\n",
    "        if not np.isnan(temp_df.iat[x,i]) and not np.isnan(temp_df.iat[user,i]):\n",
    "            row_total.append(temp_df.iat[x,i])\n",
    "            target_total.append(temp_df.iat[user,i])\n",
    "    \n",
    "    # calc the mean for both\n",
    "    row_mean = np.mean(row_total)\n",
    "    target_mean = np.mean(target_total)\n",
    "    \n",
    "    \n",
    "    i = 0\n",
    "    \n",
    "    # apply the pearson equation\n",
    "    for i in range(len(row_total)):\n",
    "        cor = cor + ((row_total[i]-row_mean)*(target_total[i]-target_mean))\n",
    "        x_cor = x_cor + ((row_total[i]-row_mean)**2)\n",
    "        user_cor = user_cor + ((target_total[i]-target_mean)**2)\n",
    "    \n",
    "    p_cor = cor/(np.sqrt(x_cor * user_cor))\n",
    "    \n",
    "    return p_cor\n",
    "\n",
    "\n",
    "def find_knn(df, user, test_size):\n",
    "    \n",
    "    # temp copy of the df\n",
    "    temp_df = df.copy()\n",
    "\n",
    "    #replace all 0 with Nan\n",
    "    temp_df.replace(0,np.NaN, inplace = True)\n",
    "    \n",
    "    # create the p_corr column\n",
    "    temp_df['P_corr'] = np.NaN\n",
    "    \n",
    "    # calculate the pearson coor for each row, excluding the testing section\n",
    "    for i in range(temp_df.shape[0]-test_size):\n",
    "        temp_df.iat[i,temp_df.shape[1]-1] = pearson(temp_df, i, user)\n",
    "    \n",
    "    # Sort values based on the value in a specific column\n",
    "    temp_df.sort_values(['P_corr'], ascending=[False], inplace = True)\n",
    "    \n",
    "    return temp_df\n",
    "\n",
    "def predict_rating(df, movie_target, k):\n",
    "    # Prediction of rating\n",
    "\n",
    "    pred_temp = 0\n",
    "    sim_sum = 0\n",
    "    pred_rating= 0\n",
    "\n",
    "    i = 0\n",
    "\n",
    "    # iterate through the the knn and calculate the predicted weighted rating\n",
    "    for i in range(k):\n",
    "        \n",
    "        if not np.isnan(df.iat[i,movie_target]):\n",
    "\n",
    "            pred_temp = pred_temp + (df.iat[i,movie_target]* df.iat[i,df.shape[1]-1])\n",
    "\n",
    "            sim_sum = sim_sum + df.iat[i,df.shape[1]-1]\n",
    "    \n",
    "    # in case there are no knn with a rating within k use the entire training section for a predicted rating\n",
    "    if sim_sum == 0:\n",
    "        return predict_rating(df, movie_target, 20) \n",
    "    \n",
    "    else:\n",
    "        pred_rating = pred_temp/sim_sum     \n",
    "\n",
    "    return pred_rating\n",
    " \n",
    "def get_recommendations(user, df, k, n, test_size):\n",
    "    # find recommendations\n",
    "    \n",
    "    temp_df = find_knn(df, user, test_size)\n",
    "    \n",
    "    i = 0\n",
    "    \n",
    "    # locate where the target user is located and use that as a pointer\n",
    "    user_name = temp_df.index.get_loc(df.index[user])\n",
    "    \n",
    "    if user_name <= k:\n",
    "        k = k +1\n",
    "\n",
    "    recommendations = []\n",
    "\n",
    "    for i in range(temp_df.shape[1]-1):\n",
    "        \n",
    "        if np.isnan(temp_df.iat[user_name,i]):\n",
    "            recommendations.append([temp_df.columns[i],predict_rating(temp_df, i, k)]) # is k\n",
    "    \n",
    "    # sort the recommendations so they are sorted from largest to smallest\n",
    "    recommendations.sort(key=lambda tup: tup[1], reverse=True)\n",
    "    \n",
    "    # print out the recommendations\n",
    "    for i in range(len(recommendations[:n])):\n",
    "        print(\"We recommend the following {0} with a predicted rating of {1:.2f}: \".format(recommendations[i][0], recommendations[i][1]))\n",
    "    \n",
    "    return recommendations\n",
    "\n",
    "# Mean Absolute Error\n",
    "# This will iterate through each input user for each k that is input \n",
    "# and return a 2d array with the results\n",
    "\n",
    "def mae_calc(df, users, k, test_size):\n",
    "    \n",
    "    combined_mae = []\n",
    "    \n",
    "    j = 0\n",
    "    \n",
    "    # iterate through each user\n",
    "    for j in range(len(users)):\n",
    "        \n",
    "        # find the knn for the user\n",
    "        temp_df = find_knn(df, users[j], test_size)\n",
    "        \n",
    "        #initialize the individual user mae\n",
    "        user_mae = []\n",
    "        \n",
    "        v = 0\n",
    "        \n",
    "        # iterate through all k values that were input\n",
    "        for v in range(len(k)):\n",
    "            i = 0\n",
    "            temp = 0\n",
    "            mae_sum = []\n",
    "            \n",
    "            \n",
    "            # iterate through each movie\n",
    "            for i in range(temp_df.shape[1]):\n",
    "                \n",
    "                # check to see if a rating exists\n",
    "                if not np.isnan(temp_df.iat[users[j],i]):\n",
    "                    \n",
    "                    #calculate the absolute difference between the two\n",
    "                    temp = abs(predict_rating(temp_df, i, k[v]) - temp_df.iat[users[j],i])\n",
    "\n",
    "                    mae_sum.append(temp)\n",
    "                    \n",
    "            # check to see if the resulting difference is 0 to avoid a divide by zero        \n",
    "            if mae_sum == 0:\n",
    "                user_mae.append(mae_sum)\n",
    "                \n",
    "            # if the difference is not 0 then calculate the mae\n",
    "            else:\n",
    "                mae = sum(mae_sum)/len(mae_sum)\n",
    "                user_mae.append(mae)\n",
    "                \n",
    "        #append each user to the combined and return\n",
    "        combined_mae.append(user_mae)\n",
    "        \n",
    "    return combined_mae\n"
   ]
  },
  {
   "cell_type": "markdown",
   "id": "b058c26a",
   "metadata": {},
   "source": [
    "# Run the movie KNN"
   ]
  },
  {
   "cell_type": "code",
   "execution_count": 3,
   "id": "4e219171",
   "metadata": {},
   "outputs": [],
   "source": [
    "#import the ratings file to dataframe\n",
    "movie_df = pd.read_excel(\"knn-csc480-a4.xls\")"
   ]
  },
  {
   "cell_type": "code",
   "execution_count": 4,
   "id": "48dc406c",
   "metadata": {},
   "outputs": [],
   "source": [
    "movie_df = process_data(movie_df)"
   ]
  },
  {
   "cell_type": "code",
   "execution_count": 5,
   "id": "ccd6c533",
   "metadata": {},
   "outputs": [
    {
     "data": {
      "text/plain": [
       "0.951776813234291"
      ]
     },
     "execution_count": 5,
     "metadata": {},
     "output_type": "execute_result"
    }
   ],
   "source": [
    "# Mean Absolute Error\n",
    "\n",
    "# NU1 - NU5, k = 3, MAE \n",
    "users = [20,21,22,23,24]    \n",
    "k = [3]\n",
    "test_size = len(users)\n",
    "\n",
    "mae_testing = mae_calc(movie_df, users, k, test_size)\n",
    "\n",
    "#return\n",
    "np.average(mae_testing)"
   ]
  },
  {
   "cell_type": "code",
   "execution_count": 6,
   "id": "7ca696ad",
   "metadata": {},
   "outputs": [
    {
     "name": "stdout",
     "output_type": "stream",
     "text": [
      "We recommend the following THE DA VINCI CODE with a predicted rating of 3.48: \n",
      "We recommend the following RUNNY BABBIT with a predicted rating of 2.57: \n"
     ]
    }
   ],
   "source": [
    "# NU1 recommendations and predicted rating\n",
    "users = 20\n",
    "k = 3\n",
    "n = 3\n",
    "test_size = 5\n",
    "\n",
    "recs = get_recommendations(users, movie_df, k, n, test_size)\n"
   ]
  },
  {
   "cell_type": "code",
   "execution_count": 7,
   "id": "ef9f81c2",
   "metadata": {},
   "outputs": [
    {
     "name": "stdout",
     "output_type": "stream",
     "text": [
      "We recommend the following TRUE BELIEVER with a predicted rating of 2.00: \n",
      "We recommend the following HARRY POTTER with a predicted rating of 1.51: \n",
      "We recommend the following THE KITE RUNNER with a predicted rating of 1.50: \n"
     ]
    }
   ],
   "source": [
    "# NU2 recommendations and predicted rating\n",
    "users = 21\n",
    "k = 3\n",
    "n = 3\n",
    "test_size = 5\n",
    "\n",
    "recs = get_recommendations(users, movie_df, k, n, test_size)"
   ]
  },
  {
   "cell_type": "code",
   "execution_count": 13,
   "id": "6f91af69",
   "metadata": {},
   "outputs": [
    {
     "name": "stdout",
     "output_type": "stream",
     "text": [
      "\n",
      "Top 3 Recommendations for U2: \n",
      "We recommend the following MY LIFE SO FAR with a predicted rating of 3.33: \n",
      "We recommend the following HARRY POTTER with a predicted rating of 3.25: \n",
      "We recommend the following THE WORLD IS FLAT with a predicted rating of 2.33: \n",
      "\n",
      "Top 3 Recommendations for U5: \n",
      "We recommend the following MY LIFE SO FAR with a predicted rating of 3.84: \n",
      "We recommend the following THE TAKING with a predicted rating of 3.37: \n",
      "We recommend the following HARRY POTTER with a predicted rating of 2.53: \n",
      "\n",
      "Top 3 Recommendations for U13: \n",
      "We recommend the following THE DA VINCI CODE with a predicted rating of 4.24: \n",
      "We recommend the following TRUE BELIEVER with a predicted rating of 3.00: \n",
      "We recommend the following THE KITE RUNNER with a predicted rating of 3.00: \n",
      "\n",
      "Top 3 Recommendations for U20: \n",
      "We recommend the following RUNNY BABBIT with a predicted rating of 3.11: \n"
     ]
    },
    {
     "name": "stderr",
     "output_type": "stream",
     "text": [
      "<ipython-input-2-e6901afc8287>:60: RuntimeWarning: invalid value encountered in double_scalars\n",
      "  p_cor = cor/(np.sqrt(x_cor * user_cor))\n"
     ]
    }
   ],
   "source": [
    "# Finding the top 3 recommendations for U2, U5, U13, and U20, with k=4 \n",
    "users = [1,4,12,19]\n",
    "k = 4\n",
    "n = 3\n",
    "test_size = 5\n",
    "\n",
    "for user in users:\n",
    "    print(\"\\nTop {} Recommendations for U{}: \".format(n, user+1))\n",
    "    get_recommendations(user, movie_df, k, n, test_size)"
   ]
  },
  {
   "cell_type": "markdown",
   "id": "697aed55",
   "metadata": {},
   "source": [
    "# Extra Credit: Joke Recommender"
   ]
  },
  {
   "cell_type": "code",
   "execution_count": 9,
   "id": "67a24e98",
   "metadata": {},
   "outputs": [],
   "source": [
    "#import the ratings file to dataframe\n",
    "\n",
    "joke_df = pd.read_csv(\"modified_jester_data.csv\", header=None)\n",
    "jokes_df = pd.read_csv(\"jokes.csv\", header=None)"
   ]
  },
  {
   "cell_type": "code",
   "execution_count": 10,
   "id": "55691e4b",
   "metadata": {},
   "outputs": [],
   "source": [
    "#keep the last 100 rows\n",
    "joke_df.drop(joke_df.index[0:900], inplace=True)\n",
    "\n",
    "# randomly mix up the rows\n",
    "joke_df = joke_df.sample(frac=1).copy()"
   ]
  },
  {
   "cell_type": "code",
   "execution_count": 11,
   "id": "aaa35ba1",
   "metadata": {},
   "outputs": [
    {
     "data": {
      "text/plain": [
       "3.332276519662198"
      ]
     },
     "execution_count": 11,
     "metadata": {},
     "output_type": "execute_result"
    }
   ],
   "source": [
    "# Mean Absolute Error\n",
    "users = [80,81,82,83,84,85,86,87,88,89,90,91,92,93,94,95,96,97,98,99]  \n",
    "k = [47]\n",
    "test_size = len(users)\n",
    "\n",
    "mae_testing = mae_calc(joke_df, users, k, test_size)\n",
    "\n",
    "#return\n",
    "np.average(mae_testing)"
   ]
  },
  {
   "cell_type": "code",
   "execution_count": 12,
   "id": "93f18398",
   "metadata": {},
   "outputs": [
    {
     "name": "stdout",
     "output_type": "stream",
     "text": [
      "We recommend the following 71 with a predicted rating of 16.37: \n",
      "We recommend the following 88 with a predicted rating of 15.64: \n",
      "We recommend the following 92 with a predicted rating of 15.49: \n",
      "\n",
      "For user 987, We recommend the following: \n",
      "On the first day of college the Dean addressed the students pointing out some of the rules:\"The female dormitory will be out-of-bounds for all male students and the male dormitory to the female students. Anybody caught breaking this rule will be fined $20 the first time.\" He continued \"Anybody caught breaking this rule the second time will be fined $60. Being caught a third time will cost you a fine of $180. Are there any questions ?\"At this point a male student in the crowd inquired:\"How much for a season pass ?\" \n",
      "with a predicted rating of 16.37: \n",
      "\n",
      "For user 987, We recommend the following: \n",
      "A radio conversation of a US naval ship with Canadian authorities ... Americans: Please divert your course 15 degrees to the North to avoid a collision.Canadians: Recommend you divert YOUR course 15 degrees to the South to avoid a collision.Americans: This is the Captain of a US Navy ship.  I say again divert YOUR course.Canadians: No.  I say again you divert YOUR course.Americans: This is the aircraft carrier USS LINCOLN the second largest ship in the United States' Atlantic Fleet. We are accompanied by three destroyers three cruisers and numerous support vessels. I demand that you change your course 15 degrees north that's ONE FIVE DEGREES NORTH or counter-measures will be undertaken to ensure the safety of this ship.Canadians: This is a lighthouse.  Your call. \n",
      "with a predicted rating of 15.64: \n",
      "\n",
      "For user 987, We recommend the following: \n",
      "Reaching the end of a job interview the human resources person asked a young engineer fresh out of Stanford\"And what starting salary were you looking for?\"The engineer said \"In the neighborhood of $125000 a year depending on the benefits package.\"The interviewer said \"Well what would you say to a package of 5-weeks vacation 14 paid holidays full medical and dental company matching retirement fund to 50% of salary and a company car leased every 2 years - say a red Corvette?\"The Engineer sat up straight and said \"Wow! Are you kidding?\"And the interviewer replied \"Yeah but you started it.\" \n",
      "with a predicted rating of 15.49: \n"
     ]
    }
   ],
   "source": [
    "# working\n",
    "test_size = 20\n",
    "users = 96\n",
    "k = 47\n",
    "n = 3\n",
    "\n",
    "\n",
    "recs = get_recommendations(users, joke_df, k, n, test_size)\n",
    "\n",
    "if not len(recs) == 0:\n",
    "    for i in range(n):\n",
    "        print(\"\\nFor user {0}, We recommend the following: \\n{1} \\nwith a predicted rating of {2:.2f}: \".format(joke_df.index[users], jokes_df.iat[recs[i][0],1], recs[i][1]))\n",
    "if len(recs) == 0:\n",
    "    print(\"\\nIt appears that this user has rated every joke. Please try another user.\")"
   ]
  },
  {
   "cell_type": "code",
   "execution_count": null,
   "id": "65023ca0",
   "metadata": {},
   "outputs": [],
   "source": [
    "joke_df.tail()"
   ]
  }
 ],
 "metadata": {
  "kernelspec": {
   "display_name": "Python 3",
   "language": "python",
   "name": "python3"
  },
  "language_info": {
   "codemirror_mode": {
    "name": "ipython",
    "version": 3
   },
   "file_extension": ".py",
   "mimetype": "text/x-python",
   "name": "python",
   "nbconvert_exporter": "python",
   "pygments_lexer": "ipython3",
   "version": "3.8.8"
  }
 },
 "nbformat": 4,
 "nbformat_minor": 5
}
